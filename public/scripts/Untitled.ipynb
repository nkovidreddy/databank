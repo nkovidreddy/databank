{
 "cells": [
  {
   "cell_type": "code",
   "execution_count": 7,
   "metadata": {
    "collapsed": false
   },
   "outputs": [
    {
     "ename": "AttributeError",
     "evalue": "module 'urllib' has no attribute 'Request'",
     "output_type": "error",
     "traceback": [
      "\u001b[0;31m---------------------------------------------------------------------------\u001b[0m",
      "\u001b[0;31mAttributeError\u001b[0m                            Traceback (most recent call last)",
      "\u001b[0;32m<ipython-input-7-dfd643377e66>\u001b[0m in \u001b[0;36m<module>\u001b[0;34m()\u001b[0m\n\u001b[1;32m     24\u001b[0m \u001b[0mheaders\u001b[0m \u001b[0;34m=\u001b[0m \u001b[0;34m{\u001b[0m\u001b[0;34m'Content-Type'\u001b[0m\u001b[0;34m:\u001b[0m\u001b[0;34m'application/json'\u001b[0m\u001b[0;34m,\u001b[0m \u001b[0;34m'Authorization'\u001b[0m\u001b[0;34m:\u001b[0m\u001b[0;34m(\u001b[0m\u001b[0;34m'Bearer '\u001b[0m\u001b[0;34m+\u001b[0m \u001b[0mapi_key\u001b[0m\u001b[0;34m)\u001b[0m\u001b[0;34m}\u001b[0m\u001b[0;34m\u001b[0m\u001b[0m\n\u001b[1;32m     25\u001b[0m \u001b[0;34m\u001b[0m\u001b[0m\n\u001b[0;32m---> 26\u001b[0;31m \u001b[0mreq\u001b[0m \u001b[0;34m=\u001b[0m \u001b[0murllib\u001b[0m\u001b[0;34m.\u001b[0m\u001b[0mRequest\u001b[0m\u001b[0;34m(\u001b[0m\u001b[0murl\u001b[0m\u001b[0;34m,\u001b[0m \u001b[0mbody\u001b[0m\u001b[0;34m,\u001b[0m \u001b[0mheaders\u001b[0m\u001b[0;34m)\u001b[0m\u001b[0;34m\u001b[0m\u001b[0m\n\u001b[0m\u001b[1;32m     27\u001b[0m \u001b[0;34m\u001b[0m\u001b[0m\n\u001b[1;32m     28\u001b[0m \u001b[0;32mtry\u001b[0m\u001b[0;34m:\u001b[0m\u001b[0;34m\u001b[0m\u001b[0m\n",
      "\u001b[0;31mAttributeError\u001b[0m: module 'urllib' has no attribute 'Request'"
     ]
    }
   ],
   "source": [
    "import urllib\n",
    "# If you are using Python 3+, import urllib instead of urllib2\n",
    "\n",
    "import json \n",
    "\n",
    "\n",
    "data =  {\n",
    "\n",
    "        \"Inputs\": {\n",
    "\n",
    "                \"input1\":\n",
    "                {\n",
    "                    \"ColumnNames\": [\"default\", \"previous\", \"euribor3m\", \"job_admin.\", \"job_blue-collar\", \"job_entrepreneur\", \"job_housemaid\", \"job_management\", \"job_retired\", \"job_self-employed\", \"job_services\", \"job_student\", \"job_technician\", \"job_unemployed\", \"job_unknown\", \"poutcome_failure\", \"poutcome_nonexistent\", \"poutcome_success\", \"contactType\", \"outcome\"],\n",
    "                    \"Values\": [ [ \"0\", \"0\", \"0\", \"0\", \"0\", \"0\", \"0\", \"0\", \"0\", \"0\", \"0\", \"0\", \"0\", \"0\", \"0\", \"0\", \"0\", \"0\", \"0\", \"0\" ], [ \"0\", \"0\", \"0\", \"0\", \"0\", \"0\", \"0\", \"0\", \"0\", \"0\", \"0\", \"0\", \"0\", \"0\", \"0\", \"0\", \"0\", \"0\", \"0\", \"0\" ], ]\n",
    "                },        },\n",
    "            \"GlobalParameters\": {\n",
    "}\n",
    "    }\n",
    "\n",
    "body = str.encode(json.dumps(data))\n",
    "\n",
    "url = 'https://asiasoutheast.services.azureml.net/workspaces/5c14252f472e4bbc9facde7df84af4d0/services/e139c36dae67441aa7b9f7e041d4cae7/execute?api-version=2.0&details=true'\n",
    "api_key = 'abc123' # Replace this with the API key for the web service\n",
    "headers = {'Content-Type':'application/json', 'Authorization':('Bearer '+ api_key)}\n",
    "\n",
    "req = urllib.Request(url, body, headers) \n",
    "\n",
    "try:\n",
    "    response = urllib.urlopen(req)\n",
    "\n",
    "    # If you are using Python 3+, replace urllib2 with urllib.request in the above code:\n",
    "    # req = urllib.request.Request(url, body, headers) \n",
    "    # response = urllib.request.urlopen(req)\n",
    "\n",
    "    result = response.read()\n",
    "    print(result) \n",
    "except urllib.error:\n",
    "    print(\"The request failed with status code: \" + str(error.code))\n",
    "\n",
    "    # Print the headers - they include the requert ID and the timestamp, which are useful for debugging the failure\n",
    "    print(error.info())\n",
    "\n",
    "    print(json.loads(error.read()))  "
   ]
  },
  {
   "cell_type": "code",
   "execution_count": null,
   "metadata": {
    "collapsed": true
   },
   "outputs": [],
   "source": []
  }
 ],
 "metadata": {
  "kernelspec": {
   "display_name": "Python 3",
   "language": "python",
   "name": "python3"
  },
  "language_info": {
   "codemirror_mode": {
    "name": "ipython",
    "version": 3
   },
   "file_extension": ".py",
   "mimetype": "text/x-python",
   "name": "python",
   "nbconvert_exporter": "python",
   "pygments_lexer": "ipython3",
   "version": "3.5.1"
  }
 },
 "nbformat": 4,
 "nbformat_minor": 0
}
